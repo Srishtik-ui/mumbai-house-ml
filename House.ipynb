{
  "nbformat": 4,
  "nbformat_minor": 0,
  "metadata": {
    "colab": {
      "provenance": []
    },
    "kernelspec": {
      "name": "python3",
      "display_name": "Python 3"
    },
    "language_info": {
      "name": "python"
    }
  },
  "cells": [
    {
      "cell_type": "code",
      "execution_count": null,
      "metadata": {
        "id": "1rjtYsCDne2Q"
      },
      "outputs": [],
      "source": [
        "import numpy as np\n",
        "import pandas as pd\n",
        "import json\n",
        "from sklearn.model_selection import train_test_split, RandomizedSearchCV\n",
        "from sklearn.pipeline import Pipeline\n",
        "from sklearn.compose import ColumnTransformer\n",
        "from sklearn.preprocessing import OneHotEncoder, StandardScaler\n",
        "from sklearn.impute import SimpleImputer\n",
        "from sklearn.linear_model import LinearRegression, LogisticRegression\n",
        "from sklearn.ensemble import RandomForestRegressor, GradientBoostingRegressor\n",
        "from sklearn.metrics import r2_score, mean_squared_error\n",
        "import joblib"
      ]
    },
    {
      "cell_type": "code",
      "source": [
        "df =pd.read_csv(\"/content/Mumbai House Prices.csv\")\n",
        "df.info()\n",
        "df.head()"
      ],
      "metadata": {
        "id": "53BEiRPBnoIq"
      },
      "execution_count": null,
      "outputs": []
    },
    {
      "cell_type": "code",
      "source": [
        "df.duplicated()"
      ],
      "metadata": {
        "id": "y4AozlDgoLjk"
      },
      "execution_count": null,
      "outputs": []
    },
    {
      "cell_type": "code",
      "source": [
        "cate_col = [col for col in df.columns if df[col].dtype == 'object']\n",
        "num_col = [col for col in df.columns if df[col].dtype != 'object']\n",
        "\n",
        "print(\"Categorical columns :\", cate_col)\n",
        "print(\"Numerical columns :\", num_col)"
      ],
      "metadata": {
        "id": "CEUf6K1Nobrj"
      },
      "execution_count": null,
      "outputs": []
    },
    {
      "cell_type": "code",
      "source": [
        "df[cate_col].nunique()"
      ],
      "metadata": {
        "id": "3aoRF-IPpq4e"
      },
      "execution_count": null,
      "outputs": []
    },
    {
      "cell_type": "code",
      "source": [
        "df.isnull().sum()"
      ],
      "metadata": {
        "id": "jZq4affJpwjh"
      },
      "execution_count": null,
      "outputs": []
    },
    {
      "cell_type": "code",
      "source": [
        "df = pd.read_csv(\"/content/Mumbai House Prices.csv\")\n",
        "\n",
        "\n",
        "X = df[[\"bhk\", \"type\"]]\n",
        "y_price = df[\"price\"]\n",
        "y_status = df[\"status\"]\n",
        "y_region = df[\"region\"]\n",
        "y_locality = df[\"locality\"]\n",
        "y_age = df[\"age\"]\n",
        "y_area = df[\"area\"]\n",
        "\n",
        "# Categorical transformer for \"Type\"\n",
        "preprocessor = ColumnTransformer(\n",
        "    transformers=[('type', OneHotEncoder(handle_unknown='ignore'), [\"type\"])],\n",
        "    remainder='passthrough'\n",
        ")"
      ],
      "metadata": {
        "id": "iroFq6oGu1l4"
      },
      "execution_count": null,
      "outputs": []
    },
    {
      "cell_type": "code",
      "source": [
        "import re\n",
        "import numpy as np\n",
        "import pandas as pd\n",
        "\n",
        "def age_to_numeric(x):\n",
        "    if pd.isna(x):\n",
        "        return np.nan\n",
        "    s = str(x).strip()\n",
        "    s_low = s.lower()\n",
        "    if s_low in (\"new\", \"brand new\"):          # treat \"New\" as 0 years\n",
        "        return 0.0\n",
        "    # range like \"1-5\" -> midpoint 3.0\n",
        "    m = re.search(r'(\\d+)\\s*-\\s*(\\d+)', s)\n",
        "    if m:\n",
        "        a, b = float(m.group(1)), float(m.group(2))\n",
        "        return (a + b) / 2.0\n",
        "    # plus like \"10+\" -> use 10\n",
        "    m = re.search(r'(\\d+)\\+', s)\n",
        "    if m:\n",
        "        return float(m.group(1))\n",
        "    # single number like \"5\" -> 5\n",
        "    m = re.search(r'(\\d+)', s)\n",
        "    if m:\n",
        "        return float(m.group(1))\n",
        "    # fallback\n",
        "    return np.nan\n",
        "\n",
        "# Apply to your dataframe (example)\n",
        "df['age_num'] = df['age'].apply(age_to_numeric)\n",
        "\n",
        "# Check how many missing after conversion\n",
        "print(\"Converted age -> numeric; NaNs:\", df['age_num'].isna().sum())\n",
        "\n",
        "# If many NaNs, you can impute median before training:\n",
        "from sklearn.impute import SimpleImputer\n",
        "imp = SimpleImputer(strategy='median')\n",
        "df['age_num'] = imp.fit_transform(df[['age_num']])\n",
        "\n",
        "# Now use df['age_num'] as y_age for regression:\n",
        "y_age = df['age_num']\n",
        "\n",
        "# Example: fit the age regression pipeline (assuming X defined)\n",
        "pipe_age = Pipeline([('pre', preprocessor), ('model', LinearRegression())])\n",
        "pipe_age.fit(X, y_age)"
      ],
      "metadata": {
        "id": "0It6dGvdvwHp"
      },
      "execution_count": null,
      "outputs": []
    },
    {
      "cell_type": "code",
      "source": [
        "# Regression for Price\n",
        "pipe_price = Pipeline([('pre', preprocessor), ('model', LinearRegression())])\n",
        "pipe_price.fit(X, y_price)\n",
        "\n",
        "# Regression for Area\n",
        "pipe_area = Pipeline([('pre', preprocessor), ('model', LinearRegression())])\n",
        "pipe_area.fit(X, y_area)\n",
        "\n",
        "# Regression for Age\n",
        "pipe_age = Pipeline([('pre', preprocessor), ('model', LinearRegression())])\n",
        "pipe_age.fit(X, y_age)\n",
        "\n",
        "# Classification for Status\n",
        "pipe_status = Pipeline([('pre', preprocessor), ('model', LogisticRegression(max_iter=500))])\n",
        "pipe_status.fit(X, y_status)\n",
        "\n",
        "# Classification for Region\n",
        "pipe_region = Pipeline([('pre', preprocessor), ('model', LogisticRegression(max_iter=500))])\n",
        "pipe_region.fit(X, y_region)\n",
        "\n",
        "# Classification for Locality\n",
        "pipe_locality = Pipeline([('pre', preprocessor), ('model', LogisticRegression(max_iter=500))])\n",
        "pipe_locality.fit(X, y_locality)\n"
      ],
      "metadata": {
        "id": "BH2orHkBv-iQ"
      },
      "execution_count": null,
      "outputs": []
    }
  ]
}